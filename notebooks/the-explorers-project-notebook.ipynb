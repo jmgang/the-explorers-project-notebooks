{
 "cells": [
  {
   "cell_type": "markdown",
   "id": "2f101ea5",
   "metadata": {},
   "source": [
    "# The Explorers - Sprint 4 - Project Notebook"
   ]
  },
  {
   "cell_type": "code",
   "execution_count": null,
   "id": "30aac0d8",
   "metadata": {},
   "outputs": [],
   "source": []
  },
  {
   "cell_type": "code",
   "execution_count": null,
   "id": "f807fbae",
   "metadata": {},
   "outputs": [],
   "source": []
  }
 ],
 "metadata": {
  "kernelspec": {
   "display_name": "Python 3 (ipykernel)",
   "language": "python",
   "name": "python3"
  },
  "language_info": {
   "codemirror_mode": {
    "name": "ipython",
    "version": 3
   },
   "file_extension": ".py",
   "mimetype": "text/x-python",
   "name": "python",
   "nbconvert_exporter": "python",
   "pygments_lexer": "ipython3",
   "version": "3.11.3"
  }
 },
 "nbformat": 4,
 "nbformat_minor": 5
}

{
 "cells": [
  {
   "cell_type": "code",
   "execution_count": 1,
   "id": "4738effd",
   "metadata": {},
   "outputs": [],
   "source": [
    "# Initial Exploration"
   ]
  },
  {
   "cell_type": "code",
   "execution_count": 2,
   "id": "1bc7e075",
   "metadata": {},
   "outputs": [],
   "source": [
    "import pandas as pd"
   ]
  },
  {
   "cell_type": "code",
   "execution_count": 3,
   "id": "70566c30",
   "metadata": {},
   "outputs": [
    {
     "data": {
      "text/html": [
       "<div>\n",
       "<style scoped>\n",
       "    .dataframe tbody tr th:only-of-type {\n",
       "        vertical-align: middle;\n",
       "    }\n",
       "\n",
       "    .dataframe tbody tr th {\n",
       "        vertical-align: top;\n",
       "    }\n",
       "\n",
       "    .dataframe thead th {\n",
       "        text-align: right;\n",
       "    }\n",
       "</style>\n",
       "<table border=\"1\" class=\"dataframe\">\n",
       "  <thead>\n",
       "    <tr style=\"text-align: right;\">\n",
       "      <th></th>\n",
       "      <th>job_id</th>\n",
       "      <th>company_id</th>\n",
       "      <th>title</th>\n",
       "      <th>description</th>\n",
       "      <th>max_salary</th>\n",
       "      <th>med_salary</th>\n",
       "      <th>min_salary</th>\n",
       "      <th>pay_period</th>\n",
       "      <th>formatted_work_type</th>\n",
       "      <th>location</th>\n",
       "      <th>...</th>\n",
       "      <th>closed_time</th>\n",
       "      <th>formatted_experience_level</th>\n",
       "      <th>skills_desc</th>\n",
       "      <th>listed_time</th>\n",
       "      <th>posting_domain</th>\n",
       "      <th>sponsored</th>\n",
       "      <th>work_type</th>\n",
       "      <th>currency</th>\n",
       "      <th>compensation_type</th>\n",
       "      <th>scraped</th>\n",
       "    </tr>\n",
       "  </thead>\n",
       "  <tbody>\n",
       "    <tr>\n",
       "      <th>0</th>\n",
       "      <td>3757940104</td>\n",
       "      <td>553718.0</td>\n",
       "      <td>Hearing Care Provider</td>\n",
       "      <td>Overview\\n\\nHearingLife is a national hearing ...</td>\n",
       "      <td>NaN</td>\n",
       "      <td>5250.00</td>\n",
       "      <td>NaN</td>\n",
       "      <td>MONTHLY</td>\n",
       "      <td>Full-time</td>\n",
       "      <td>Little River, SC</td>\n",
       "      <td>...</td>\n",
       "      <td>NaN</td>\n",
       "      <td>Entry level</td>\n",
       "      <td>NaN</td>\n",
       "      <td>1.699090e+12</td>\n",
       "      <td>careers-demant.icims.com</td>\n",
       "      <td>0</td>\n",
       "      <td>FULL_TIME</td>\n",
       "      <td>USD</td>\n",
       "      <td>BASE_SALARY</td>\n",
       "      <td>1699138101</td>\n",
       "    </tr>\n",
       "    <tr>\n",
       "      <th>1</th>\n",
       "      <td>3757940025</td>\n",
       "      <td>2192142.0</td>\n",
       "      <td>Shipping &amp; Receiving Associate 2nd shift (Beav...</td>\n",
       "      <td>Metalcraft of Mayville\\nMetalcraft of Mayville...</td>\n",
       "      <td>NaN</td>\n",
       "      <td>NaN</td>\n",
       "      <td>NaN</td>\n",
       "      <td>NaN</td>\n",
       "      <td>Full-time</td>\n",
       "      <td>Beaver Dam, WI</td>\n",
       "      <td>...</td>\n",
       "      <td>NaN</td>\n",
       "      <td>NaN</td>\n",
       "      <td>NaN</td>\n",
       "      <td>1.699080e+12</td>\n",
       "      <td>www.click2apply.net</td>\n",
       "      <td>0</td>\n",
       "      <td>FULL_TIME</td>\n",
       "      <td>NaN</td>\n",
       "      <td>NaN</td>\n",
       "      <td>1699085420</td>\n",
       "    </tr>\n",
       "    <tr>\n",
       "      <th>2</th>\n",
       "      <td>3757938019</td>\n",
       "      <td>474443.0</td>\n",
       "      <td>Manager, Engineering</td>\n",
       "      <td>\\nThe TSUBAKI name is synonymous with excellen...</td>\n",
       "      <td>NaN</td>\n",
       "      <td>NaN</td>\n",
       "      <td>NaN</td>\n",
       "      <td>NaN</td>\n",
       "      <td>Full-time</td>\n",
       "      <td>Bessemer, AL</td>\n",
       "      <td>...</td>\n",
       "      <td>NaN</td>\n",
       "      <td>NaN</td>\n",
       "      <td>Bachelor's Degree in Mechanical Engineering pr...</td>\n",
       "      <td>1.699080e+12</td>\n",
       "      <td>www.click2apply.net</td>\n",
       "      <td>0</td>\n",
       "      <td>FULL_TIME</td>\n",
       "      <td>NaN</td>\n",
       "      <td>NaN</td>\n",
       "      <td>1699085644</td>\n",
       "    </tr>\n",
       "    <tr>\n",
       "      <th>3</th>\n",
       "      <td>3757938018</td>\n",
       "      <td>18213359.0</td>\n",
       "      <td>Cook</td>\n",
       "      <td>descriptionTitle\\n\\n Looking for a great oppor...</td>\n",
       "      <td>NaN</td>\n",
       "      <td>22.27</td>\n",
       "      <td>NaN</td>\n",
       "      <td>HOURLY</td>\n",
       "      <td>Full-time</td>\n",
       "      <td>Aliso Viejo, CA</td>\n",
       "      <td>...</td>\n",
       "      <td>NaN</td>\n",
       "      <td>Entry level</td>\n",
       "      <td>NaN</td>\n",
       "      <td>1.699080e+12</td>\n",
       "      <td>jobs.apploi.com</td>\n",
       "      <td>0</td>\n",
       "      <td>FULL_TIME</td>\n",
       "      <td>USD</td>\n",
       "      <td>BASE_SALARY</td>\n",
       "      <td>1699087461</td>\n",
       "    </tr>\n",
       "    <tr>\n",
       "      <th>4</th>\n",
       "      <td>3757937095</td>\n",
       "      <td>437225.0</td>\n",
       "      <td>Principal Cloud Security Architect (Remote)</td>\n",
       "      <td>Job Summary\\nAt iHerb, we are on a mission to ...</td>\n",
       "      <td>275834.0</td>\n",
       "      <td>NaN</td>\n",
       "      <td>205956.0</td>\n",
       "      <td>YEARLY</td>\n",
       "      <td>Full-time</td>\n",
       "      <td>United States</td>\n",
       "      <td>...</td>\n",
       "      <td>NaN</td>\n",
       "      <td>Mid-Senior level</td>\n",
       "      <td>NaN</td>\n",
       "      <td>1.699090e+12</td>\n",
       "      <td>careers.iherb.com</td>\n",
       "      <td>0</td>\n",
       "      <td>FULL_TIME</td>\n",
       "      <td>USD</td>\n",
       "      <td>BASE_SALARY</td>\n",
       "      <td>1699085346</td>\n",
       "    </tr>\n",
       "  </tbody>\n",
       "</table>\n",
       "<p>5 rows × 28 columns</p>\n",
       "</div>"
      ],
      "text/plain": [
       "       job_id  company_id                                              title  \\\n",
       "0  3757940104    553718.0                              Hearing Care Provider   \n",
       "1  3757940025   2192142.0  Shipping & Receiving Associate 2nd shift (Beav...   \n",
       "2  3757938019    474443.0                               Manager, Engineering   \n",
       "3  3757938018  18213359.0                                               Cook   \n",
       "4  3757937095    437225.0        Principal Cloud Security Architect (Remote)   \n",
       "\n",
       "                                         description  max_salary  med_salary  \\\n",
       "0  Overview\\n\\nHearingLife is a national hearing ...         NaN     5250.00   \n",
       "1  Metalcraft of Mayville\\nMetalcraft of Mayville...         NaN         NaN   \n",
       "2  \\nThe TSUBAKI name is synonymous with excellen...         NaN         NaN   \n",
       "3  descriptionTitle\\n\\n Looking for a great oppor...         NaN       22.27   \n",
       "4  Job Summary\\nAt iHerb, we are on a mission to ...    275834.0         NaN   \n",
       "\n",
       "   min_salary pay_period formatted_work_type          location  ...  \\\n",
       "0         NaN    MONTHLY           Full-time  Little River, SC  ...   \n",
       "1         NaN        NaN           Full-time    Beaver Dam, WI  ...   \n",
       "2         NaN        NaN           Full-time      Bessemer, AL  ...   \n",
       "3         NaN     HOURLY           Full-time   Aliso Viejo, CA  ...   \n",
       "4    205956.0     YEARLY           Full-time     United States  ...   \n",
       "\n",
       "   closed_time  formatted_experience_level  \\\n",
       "0          NaN                 Entry level   \n",
       "1          NaN                         NaN   \n",
       "2          NaN                         NaN   \n",
       "3          NaN                 Entry level   \n",
       "4          NaN            Mid-Senior level   \n",
       "\n",
       "                                         skills_desc   listed_time  \\\n",
       "0                                                NaN  1.699090e+12   \n",
       "1                                                NaN  1.699080e+12   \n",
       "2  Bachelor's Degree in Mechanical Engineering pr...  1.699080e+12   \n",
       "3                                                NaN  1.699080e+12   \n",
       "4                                                NaN  1.699090e+12   \n",
       "\n",
       "             posting_domain sponsored  work_type  currency  compensation_type  \\\n",
       "0  careers-demant.icims.com         0  FULL_TIME       USD        BASE_SALARY   \n",
       "1       www.click2apply.net         0  FULL_TIME       NaN                NaN   \n",
       "2       www.click2apply.net         0  FULL_TIME       NaN                NaN   \n",
       "3           jobs.apploi.com         0  FULL_TIME       USD        BASE_SALARY   \n",
       "4         careers.iherb.com         0  FULL_TIME       USD        BASE_SALARY   \n",
       "\n",
       "      scraped  \n",
       "0  1699138101  \n",
       "1  1699085420  \n",
       "2  1699085644  \n",
       "3  1699087461  \n",
       "4  1699085346  \n",
       "\n",
       "[5 rows x 28 columns]"
      ]
     },
     "execution_count": 3,
     "metadata": {},
     "output_type": "execute_result"
    }
   ],
   "source": [
    "jobs_df = pd.read_csv('https://media.githubusercontent.com/media/jmgang/the-explorers-project-notebooks/main/data/job_postings.csv')\n",
    "jobs_df.head()"
   ]
  },
  {
   "cell_type": "code",
   "execution_count": 4,
   "id": "2d3e5800",
   "metadata": {},
   "outputs": [
    {
     "name": "stdout",
     "output_type": "stream",
     "text": [
      "<class 'pandas.core.frame.DataFrame'>\n",
      "RangeIndex: 33246 entries, 0 to 33245\n",
      "Data columns (total 28 columns):\n",
      " #   Column                      Non-Null Count  Dtype  \n",
      "---  ------                      --------------  -----  \n",
      " 0   job_id                      33246 non-null  int64  \n",
      " 1   company_id                  32592 non-null  float64\n",
      " 2   title                       33246 non-null  object \n",
      " 3   description                 33245 non-null  object \n",
      " 4   max_salary                  11111 non-null  float64\n",
      " 5   med_salary                  2241 non-null   float64\n",
      " 6   min_salary                  11111 non-null  float64\n",
      " 7   pay_period                  13352 non-null  object \n",
      " 8   formatted_work_type         33246 non-null  object \n",
      " 9   location                    33246 non-null  object \n",
      " 10  applies                     16238 non-null  float64\n",
      " 11  original_listed_time        33246 non-null  float64\n",
      " 12  remote_allowed              4802 non-null   float64\n",
      " 13  views                       25886 non-null  float64\n",
      " 14  job_posting_url             33246 non-null  object \n",
      " 15  application_url             20996 non-null  object \n",
      " 16  application_type            33246 non-null  object \n",
      " 17  expiry                      33246 non-null  float64\n",
      " 18  closed_time                 1172 non-null   float64\n",
      " 19  formatted_experience_level  24065 non-null  object \n",
      " 20  skills_desc                 337 non-null    object \n",
      " 21  listed_time                 33246 non-null  float64\n",
      " 22  posting_domain              19688 non-null  object \n",
      " 23  sponsored                   33246 non-null  int64  \n",
      " 24  work_type                   33246 non-null  object \n",
      " 25  currency                    13352 non-null  object \n",
      " 26  compensation_type           13352 non-null  object \n",
      " 27  scraped                     33246 non-null  int64  \n",
      "dtypes: float64(11), int64(3), object(14)\n",
      "memory usage: 7.1+ MB\n"
     ]
    }
   ],
   "source": [
    "jobs_df.info()"
   ]
  },
  {
   "cell_type": "code",
   "execution_count": 5,
   "id": "2aab5792",
   "metadata": {},
   "outputs": [],
   "source": [
    "# Columns to drop\n",
    "# 1. applies\n",
    "# 2. original_listed_time\n",
    "# 3. views\n",
    "# 4. job_posting_url\n",
    "# 5. application_url\n",
    "# 6. application_type\n",
    "# 7. expiry\n",
    "# 8. closed_time\n",
    "# 9. listed_time\n",
    "# 10. posting_domain\n",
    "# 11. sponsored\n",
    "\n",
    "jobs_df = jobs_df.drop(['job_id', 'skills_desc', 'applies', 'original_listed_time', 'views', 'job_posting_url', \n",
    "                                 'application_url', 'application_type', 'expiry', 'closed_time',\n",
    "                                 'listed_time', 'posting_domain', 'sponsored', 'scraped', 'med_salary'], axis=1)"
   ]
  },
  {
   "cell_type": "code",
   "execution_count": 6,
   "id": "65c6f8f8",
   "metadata": {},
   "outputs": [
    {
     "data": {
      "text/plain": [
       "(3262, 13)"
      ]
     },
     "execution_count": 6,
     "metadata": {},
     "output_type": "execute_result"
    }
   ],
   "source": [
    "engg_jobs_df = jobs_df[jobs_df.title.str.lower().str.contains('engineer')].reset_index(drop=True)\n",
    "engg_jobs_df.shape"
   ]
  },
  {
   "cell_type": "code",
   "execution_count": 7,
   "id": "27dccb85",
   "metadata": {},
   "outputs": [
    {
     "name": "stdout",
     "output_type": "stream",
     "text": [
      "<class 'pandas.core.frame.DataFrame'>\n",
      "RangeIndex: 3262 entries, 0 to 3261\n",
      "Data columns (total 13 columns):\n",
      " #   Column                      Non-Null Count  Dtype  \n",
      "---  ------                      --------------  -----  \n",
      " 0   company_id                  3230 non-null   float64\n",
      " 1   title                       3262 non-null   object \n",
      " 2   description                 3262 non-null   object \n",
      " 3   max_salary                  1267 non-null   float64\n",
      " 4   min_salary                  1267 non-null   float64\n",
      " 5   pay_period                  1329 non-null   object \n",
      " 6   formatted_work_type         3262 non-null   object \n",
      " 7   location                    3262 non-null   object \n",
      " 8   remote_allowed              593 non-null    float64\n",
      " 9   formatted_experience_level  2367 non-null   object \n",
      " 10  work_type                   3262 non-null   object \n",
      " 11  currency                    1329 non-null   object \n",
      " 12  compensation_type           1329 non-null   object \n",
      "dtypes: float64(4), object(9)\n",
      "memory usage: 331.4+ KB\n"
     ]
    }
   ],
   "source": [
    "engg_jobs_df.info()"
   ]
  },
  {
   "cell_type": "code",
   "execution_count": 8,
   "id": "e9a6f41a",
   "metadata": {},
   "outputs": [
    {
     "data": {
      "text/plain": [
       "title\n",
       "Software Engineer                            50\n",
       "Electrical Engineer                          37\n",
       "Project Engineer                             37\n",
       "Senior Software Engineer                     32\n",
       "Manufacturing Engineer                       31\n",
       "                                             ..\n",
       "Critical Infrastructure Engineer II           1\n",
       "Integration Engineer                          1\n",
       "Methods Engineer (CFD)                        1\n",
       "Engineer, Process Design & Implementation     1\n",
       "Staff Perception Software Engineer, CV/ML     1\n",
       "Name: count, Length: 2146, dtype: int64"
      ]
     },
     "execution_count": 8,
     "metadata": {},
     "output_type": "execute_result"
    }
   ],
   "source": [
    "engg_jobs_df.title.value_counts()"
   ]
  },
  {
   "cell_type": "code",
   "execution_count": 9,
   "id": "a8edc88d",
   "metadata": {},
   "outputs": [
    {
     "data": {
      "text/plain": [
       "2146"
      ]
     },
     "execution_count": 9,
     "metadata": {},
     "output_type": "execute_result"
    }
   ],
   "source": [
    "engg_jobs_df.title.nunique()"
   ]
  },
  {
   "cell_type": "code",
   "execution_count": 10,
   "id": "cc6ea984",
   "metadata": {},
   "outputs": [
    {
     "data": {
      "text/plain": [
       "\"About Us:We are a premier organization at the forefront of cutting-edge military technology to shape the destiny of expeditionary shelter systems, shelter enhancements, and power generation solutions. Your innovations will serve the brave individuals who protect and respond to emergencies.\\nAs a top-tier Systems Engineer, you'll be at the heart of it all, working on intriguing technical programs that demand nothing but the best.\\nKey Responsibilities:Technical Leadership: As the mastermind behind integrated project teams, you&#39;ll guide us to success.Technical Wizardry: Transform customer requirements into reality by crafting Systems Compliance Matrices.Performance Maestro: Ensure systems meet stringent customer standards through meticulousevaluations.Team Mentorship: Inspire and lead engineers with your technical acumen.Resource Guru: Manage estimates and technical risks like a pro.\\nRequirements:Experience with SolidWorks, FEA, Microsoft Project, Excel Data Processing.Strong communication and organizational skills.Passion for fostering a collaborative team spirit.\\nDesirable Skills:Familiarity with Matlab or similar software.Expertise in Finite Element Analysis with ANSYS Mechanical APDL.Knowledge of Trailer Design, DOT Regulations, and Lean Principles.\\nNote: Only candidates who are eligible to obtain a Secret level security clearance, or who currently hold an active Secret level security clearance or greater, will be considered.\""
      ]
     },
     "execution_count": 10,
     "metadata": {},
     "output_type": "execute_result"
    }
   ],
   "source": [
    "engg_jobs_df.description[3]"
   ]
  },
  {
   "cell_type": "code",
   "execution_count": 11,
   "id": "49c8d7a4",
   "metadata": {},
   "outputs": [
    {
     "data": {
      "text/plain": [
       "'Job ID 2315127\\n\\nLocation CHANTILLY, VA, US\\n\\nDate Posted 2023-11-03\\n\\nCategory Engineering and Sciences\\n\\nSubcategory Systems Engineer\\n\\nSchedule Full-time\\n\\nShift Day Job\\n\\nTravel No\\n\\nMinimum Clearance Required TS/SCI With Poly\\n\\nClearance Level Must Be Able to Obtain None\\n\\nPotential for Remote Work No\\n\\nDescription\\n\\nSAIC is seeking a SIGINT Systems Engineer Principal to support SAIC’s Prime Program, Landmark AOS in Chantilly, VA. Landmark AOS is a large SETA program, supporting the NRO’s Ground Enterprise Directorate (GED), responsible for the acquisition of systems over the complete end-to-end life cycle.\\n\\nResponsibilities include, but are not limited to the following\\n\\nCoordinate CONOPS of SIGINT mission planning and scheduling systemsDevelop architecture productsWrite and translate requirements into Epics/Features based on emerging customer needsUnderstand system-to-system interfaces and act as an IntegratorEvaluate system designs and trade-space proposed and implemented by our developers, while working in coordination with the acquisition offices (AOs)Assess performance using evaluation criteria and technical performance measuresMonitor system and segment schedules, recognize dependenciesIdentify risks and opportunitiesFacilitate readiness, release planning events, and demonstrations in support of system and acquisition-level sprints and incrementsReview Request for Changes (RFCs) and identify impacts, in addition author RFCs for the customerSupport Agile and DevOps automated test and verification (VV&T)Integrate new systems and initiatives in support of expanded SIGINT mission planning and scheduling capabilities, work directly with our developers and users in operations!Participate in studies looking at the future generation of SIGINT capabilities spanning the next decade\\n\\nQualifications\\n\\nRequired Education and Experience\\n\\nBachelors and fourteen (14) years or more experience; Masters and twelve (12) years or more experience; PhD or JD and nine (9) years or more experienceActive Top Secret/SCI clearance but must be able to obtain a PolyExperience with space/ground aerospace systems engineering/architectingIntegration and closure experience within overall customer domainWillingness to learn new areasCommitment to recognize, understand, respect, and operate effectively within various SETA, FFRDC, and Government lines of authority\\n\\nCovid Policy SAIC does not require COVID-19 vaccinations or boosters. Customer site vaccination requirements must be followed when work is performed at a customer site.'"
      ]
     },
     "execution_count": 11,
     "metadata": {},
     "output_type": "execute_result"
    }
   ],
   "source": [
    "engg_jobs_df.description[21]"
   ]
  },
  {
   "cell_type": "code",
   "execution_count": null,
   "id": "ceaad8b3",
   "metadata": {},
   "outputs": [],
   "source": [
    "# Additional Preprocessing steps\n",
    "# Some contain conjoined words that should be separated : use wordninja\n",
    "# # df['lemmatized_job_description'] = df['lemmatized_job_description'].apply(lambda x : ' '.join([' '.join(wordninja.split(word)) for word in x.split()]) )\n",
    "# Expand Contractions\n",
    "# Extend Stopwords"
   ]
  },
  {
   "cell_type": "code",
   "execution_count": 12,
   "id": "1fd1e532",
   "metadata": {},
   "outputs": [
    {
     "data": {
      "text/plain": [
       "0       False\n",
       "1       False\n",
       "2       False\n",
       "3       False\n",
       "4       False\n",
       "        ...  \n",
       "3257    False\n",
       "3258    False\n",
       "3259    False\n",
       "3260    False\n",
       "3261    False\n",
       "Name: description, Length: 3262, dtype: bool"
      ]
     },
     "execution_count": 12,
     "metadata": {},
     "output_type": "execute_result"
    }
   ],
   "source": [
    "engg_jobs_df"
   ]
  },
  {
   "cell_type": "code",
   "execution_count": null,
   "id": "e2c1a5a4",
   "metadata": {},
   "outputs": [],
   "source": []
  },
  {
   "cell_type": "code",
   "execution_count": null,
   "id": "ab44bc33",
   "metadata": {},
   "outputs": [],
   "source": [
    "# For modelling, do we include other features other than the job description?"
   ]
  },
  {
   "cell_type": "code",
   "execution_count": null,
   "id": "cb76a5a7",
   "metadata": {},
   "outputs": [],
   "source": []
  },
  {
   "cell_type": "code",
   "execution_count": null,
   "id": "4051e1b3",
   "metadata": {},
   "outputs": [],
   "source": []
  },
  {
   "cell_type": "code",
   "execution_count": null,
   "id": "590a5753",
   "metadata": {},
   "outputs": [],
   "source": []
  }
 ],
 "metadata": {
  "kernelspec": {
   "display_name": "Python 3 (ipykernel)",
   "language": "python",
   "name": "python3"
  },
  "language_info": {
   "codemirror_mode": {
    "name": "ipython",
    "version": 3
   },
   "file_extension": ".py",
   "mimetype": "text/x-python",
   "name": "python",
   "nbconvert_exporter": "python",
   "pygments_lexer": "ipython3",
   "version": "3.11.3"
  }
 },
 "nbformat": 4,
 "nbformat_minor": 5
}
